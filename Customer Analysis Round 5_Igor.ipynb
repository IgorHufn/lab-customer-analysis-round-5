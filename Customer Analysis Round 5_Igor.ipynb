{
 "cells": [
  {
   "cell_type": "markdown",
   "id": "52088806",
   "metadata": {},
   "source": [
    "# Lab | Customer Analysis Round 5\n",
    "\n",
    "For this lab, we still keep using the marketing_customer_analysis.csv file that you can find in the files_for_lab folder.\n",
    "\n",
    "Get the data\n",
    "\n",
    "We are using the marketing_customer_analysis.csv file.\n",
    "\n",
    "Dealing with the data\n",
    "\n",
    "Already done in the round 2.\n",
    "\n",
    "Explore the data\n",
    "\n",
    "Done in the round 3.\n",
    "\n",
    "Processing Data\n",
    "\n",
    "(Further processing...)\n",
    "\n",
    "X-y split.\n",
    "Normalize (numerical)."
   ]
  },
  {
   "cell_type": "code",
   "execution_count": 1,
   "id": "e5f0d9e7",
   "metadata": {},
   "outputs": [],
   "source": [
    "import pandas as pd\n",
    "import numpy as np\n",
    "import seaborn as sns\n",
    "import matplotlib.pyplot as plt"
   ]
  },
  {
   "cell_type": "code",
   "execution_count": 2,
   "id": "0a8a3963",
   "metadata": {},
   "outputs": [],
   "source": [
    "data = pd.read_csv('/Users/igorhufnagel/Desktop/Ironhack/LABS/Week 3/LAB_customer-analysis-round-5/lab-customer-analysis-round-5/files_for_lab/csv_files/marketing_customer_analysis.csv')"
   ]
  },
  {
   "cell_type": "code",
   "execution_count": 4,
   "id": "f1c101b9",
   "metadata": {},
   "outputs": [
    {
     "data": {
      "text/html": [
       "<div>\n",
       "<style scoped>\n",
       "    .dataframe tbody tr th:only-of-type {\n",
       "        vertical-align: middle;\n",
       "    }\n",
       "\n",
       "    .dataframe tbody tr th {\n",
       "        vertical-align: top;\n",
       "    }\n",
       "\n",
       "    .dataframe thead th {\n",
       "        text-align: right;\n",
       "    }\n",
       "</style>\n",
       "<table border=\"1\" class=\"dataframe\">\n",
       "  <thead>\n",
       "    <tr style=\"text-align: right;\">\n",
       "      <th></th>\n",
       "      <th>Customer</th>\n",
       "      <th>State</th>\n",
       "      <th>Customer Lifetime Value</th>\n",
       "      <th>Response</th>\n",
       "      <th>Coverage</th>\n",
       "      <th>Education</th>\n",
       "      <th>Effective To Date</th>\n",
       "      <th>EmploymentStatus</th>\n",
       "      <th>Gender</th>\n",
       "      <th>Income</th>\n",
       "      <th>...</th>\n",
       "      <th>Months Since Policy Inception</th>\n",
       "      <th>Number of Open Complaints</th>\n",
       "      <th>Number of Policies</th>\n",
       "      <th>Policy Type</th>\n",
       "      <th>Policy</th>\n",
       "      <th>Renew Offer Type</th>\n",
       "      <th>Sales Channel</th>\n",
       "      <th>Total Claim Amount</th>\n",
       "      <th>Vehicle Class</th>\n",
       "      <th>Vehicle Size</th>\n",
       "    </tr>\n",
       "  </thead>\n",
       "  <tbody>\n",
       "    <tr>\n",
       "      <th>0</th>\n",
       "      <td>BU79786</td>\n",
       "      <td>Washington</td>\n",
       "      <td>2763.519279</td>\n",
       "      <td>No</td>\n",
       "      <td>Basic</td>\n",
       "      <td>Bachelor</td>\n",
       "      <td>2/24/11</td>\n",
       "      <td>Employed</td>\n",
       "      <td>F</td>\n",
       "      <td>56274</td>\n",
       "      <td>...</td>\n",
       "      <td>5</td>\n",
       "      <td>0</td>\n",
       "      <td>1</td>\n",
       "      <td>Corporate Auto</td>\n",
       "      <td>Corporate L3</td>\n",
       "      <td>Offer1</td>\n",
       "      <td>Agent</td>\n",
       "      <td>384.811147</td>\n",
       "      <td>Two-Door Car</td>\n",
       "      <td>Medsize</td>\n",
       "    </tr>\n",
       "    <tr>\n",
       "      <th>1</th>\n",
       "      <td>QZ44356</td>\n",
       "      <td>Arizona</td>\n",
       "      <td>6979.535903</td>\n",
       "      <td>No</td>\n",
       "      <td>Extended</td>\n",
       "      <td>Bachelor</td>\n",
       "      <td>1/31/11</td>\n",
       "      <td>Unemployed</td>\n",
       "      <td>F</td>\n",
       "      <td>0</td>\n",
       "      <td>...</td>\n",
       "      <td>42</td>\n",
       "      <td>0</td>\n",
       "      <td>8</td>\n",
       "      <td>Personal Auto</td>\n",
       "      <td>Personal L3</td>\n",
       "      <td>Offer3</td>\n",
       "      <td>Agent</td>\n",
       "      <td>1131.464935</td>\n",
       "      <td>Four-Door Car</td>\n",
       "      <td>Medsize</td>\n",
       "    </tr>\n",
       "    <tr>\n",
       "      <th>2</th>\n",
       "      <td>AI49188</td>\n",
       "      <td>Nevada</td>\n",
       "      <td>12887.431650</td>\n",
       "      <td>No</td>\n",
       "      <td>Premium</td>\n",
       "      <td>Bachelor</td>\n",
       "      <td>2/19/11</td>\n",
       "      <td>Employed</td>\n",
       "      <td>F</td>\n",
       "      <td>48767</td>\n",
       "      <td>...</td>\n",
       "      <td>38</td>\n",
       "      <td>0</td>\n",
       "      <td>2</td>\n",
       "      <td>Personal Auto</td>\n",
       "      <td>Personal L3</td>\n",
       "      <td>Offer1</td>\n",
       "      <td>Agent</td>\n",
       "      <td>566.472247</td>\n",
       "      <td>Two-Door Car</td>\n",
       "      <td>Medsize</td>\n",
       "    </tr>\n",
       "    <tr>\n",
       "      <th>3</th>\n",
       "      <td>WW63253</td>\n",
       "      <td>California</td>\n",
       "      <td>7645.861827</td>\n",
       "      <td>No</td>\n",
       "      <td>Basic</td>\n",
       "      <td>Bachelor</td>\n",
       "      <td>1/20/11</td>\n",
       "      <td>Unemployed</td>\n",
       "      <td>M</td>\n",
       "      <td>0</td>\n",
       "      <td>...</td>\n",
       "      <td>65</td>\n",
       "      <td>0</td>\n",
       "      <td>7</td>\n",
       "      <td>Corporate Auto</td>\n",
       "      <td>Corporate L2</td>\n",
       "      <td>Offer1</td>\n",
       "      <td>Call Center</td>\n",
       "      <td>529.881344</td>\n",
       "      <td>SUV</td>\n",
       "      <td>Medsize</td>\n",
       "    </tr>\n",
       "    <tr>\n",
       "      <th>4</th>\n",
       "      <td>HB64268</td>\n",
       "      <td>Washington</td>\n",
       "      <td>2813.692575</td>\n",
       "      <td>No</td>\n",
       "      <td>Basic</td>\n",
       "      <td>Bachelor</td>\n",
       "      <td>2/3/11</td>\n",
       "      <td>Employed</td>\n",
       "      <td>M</td>\n",
       "      <td>43836</td>\n",
       "      <td>...</td>\n",
       "      <td>44</td>\n",
       "      <td>0</td>\n",
       "      <td>1</td>\n",
       "      <td>Personal Auto</td>\n",
       "      <td>Personal L1</td>\n",
       "      <td>Offer1</td>\n",
       "      <td>Agent</td>\n",
       "      <td>138.130879</td>\n",
       "      <td>Four-Door Car</td>\n",
       "      <td>Medsize</td>\n",
       "    </tr>\n",
       "  </tbody>\n",
       "</table>\n",
       "<p>5 rows × 24 columns</p>\n",
       "</div>"
      ],
      "text/plain": [
       "  Customer       State  Customer Lifetime Value Response  Coverage Education  \\\n",
       "0  BU79786  Washington              2763.519279       No     Basic  Bachelor   \n",
       "1  QZ44356     Arizona              6979.535903       No  Extended  Bachelor   \n",
       "2  AI49188      Nevada             12887.431650       No   Premium  Bachelor   \n",
       "3  WW63253  California              7645.861827       No     Basic  Bachelor   \n",
       "4  HB64268  Washington              2813.692575       No     Basic  Bachelor   \n",
       "\n",
       "  Effective To Date EmploymentStatus Gender  Income  ...  \\\n",
       "0           2/24/11         Employed      F   56274  ...   \n",
       "1           1/31/11       Unemployed      F       0  ...   \n",
       "2           2/19/11         Employed      F   48767  ...   \n",
       "3           1/20/11       Unemployed      M       0  ...   \n",
       "4            2/3/11         Employed      M   43836  ...   \n",
       "\n",
       "  Months Since Policy Inception Number of Open Complaints  Number of Policies  \\\n",
       "0                             5                         0                   1   \n",
       "1                            42                         0                   8   \n",
       "2                            38                         0                   2   \n",
       "3                            65                         0                   7   \n",
       "4                            44                         0                   1   \n",
       "\n",
       "      Policy Type        Policy  Renew Offer Type  Sales Channel  \\\n",
       "0  Corporate Auto  Corporate L3            Offer1          Agent   \n",
       "1   Personal Auto   Personal L3            Offer3          Agent   \n",
       "2   Personal Auto   Personal L3            Offer1          Agent   \n",
       "3  Corporate Auto  Corporate L2            Offer1    Call Center   \n",
       "4   Personal Auto   Personal L1            Offer1          Agent   \n",
       "\n",
       "  Total Claim Amount  Vehicle Class Vehicle Size  \n",
       "0         384.811147   Two-Door Car      Medsize  \n",
       "1        1131.464935  Four-Door Car      Medsize  \n",
       "2         566.472247   Two-Door Car      Medsize  \n",
       "3         529.881344            SUV      Medsize  \n",
       "4         138.130879  Four-Door Car      Medsize  \n",
       "\n",
       "[5 rows x 24 columns]"
      ]
     },
     "execution_count": 4,
     "metadata": {},
     "output_type": "execute_result"
    }
   ],
   "source": [
    "data.head()"
   ]
  },
  {
   "cell_type": "code",
   "execution_count": 5,
   "id": "5a4eb799",
   "metadata": {},
   "outputs": [],
   "source": [
    "# Using the numericals columns\n",
    "\n",
    "numericals = data.select_dtypes(include=['float64', 'int64'])"
   ]
  },
  {
   "cell_type": "code",
   "execution_count": 6,
   "id": "11db6a1f",
   "metadata": {},
   "outputs": [
    {
     "data": {
      "text/html": [
       "<div>\n",
       "<style scoped>\n",
       "    .dataframe tbody tr th:only-of-type {\n",
       "        vertical-align: middle;\n",
       "    }\n",
       "\n",
       "    .dataframe tbody tr th {\n",
       "        vertical-align: top;\n",
       "    }\n",
       "\n",
       "    .dataframe thead th {\n",
       "        text-align: right;\n",
       "    }\n",
       "</style>\n",
       "<table border=\"1\" class=\"dataframe\">\n",
       "  <thead>\n",
       "    <tr style=\"text-align: right;\">\n",
       "      <th></th>\n",
       "      <th>Customer Lifetime Value</th>\n",
       "      <th>Income</th>\n",
       "      <th>Monthly Premium Auto</th>\n",
       "      <th>Months Since Last Claim</th>\n",
       "      <th>Months Since Policy Inception</th>\n",
       "      <th>Number of Open Complaints</th>\n",
       "      <th>Number of Policies</th>\n",
       "      <th>Total Claim Amount</th>\n",
       "    </tr>\n",
       "  </thead>\n",
       "  <tbody>\n",
       "    <tr>\n",
       "      <th>0</th>\n",
       "      <td>2763.519279</td>\n",
       "      <td>56274</td>\n",
       "      <td>69</td>\n",
       "      <td>32</td>\n",
       "      <td>5</td>\n",
       "      <td>0</td>\n",
       "      <td>1</td>\n",
       "      <td>384.811147</td>\n",
       "    </tr>\n",
       "    <tr>\n",
       "      <th>1</th>\n",
       "      <td>6979.535903</td>\n",
       "      <td>0</td>\n",
       "      <td>94</td>\n",
       "      <td>13</td>\n",
       "      <td>42</td>\n",
       "      <td>0</td>\n",
       "      <td>8</td>\n",
       "      <td>1131.464935</td>\n",
       "    </tr>\n",
       "    <tr>\n",
       "      <th>2</th>\n",
       "      <td>12887.431650</td>\n",
       "      <td>48767</td>\n",
       "      <td>108</td>\n",
       "      <td>18</td>\n",
       "      <td>38</td>\n",
       "      <td>0</td>\n",
       "      <td>2</td>\n",
       "      <td>566.472247</td>\n",
       "    </tr>\n",
       "    <tr>\n",
       "      <th>3</th>\n",
       "      <td>7645.861827</td>\n",
       "      <td>0</td>\n",
       "      <td>106</td>\n",
       "      <td>18</td>\n",
       "      <td>65</td>\n",
       "      <td>0</td>\n",
       "      <td>7</td>\n",
       "      <td>529.881344</td>\n",
       "    </tr>\n",
       "    <tr>\n",
       "      <th>4</th>\n",
       "      <td>2813.692575</td>\n",
       "      <td>43836</td>\n",
       "      <td>73</td>\n",
       "      <td>12</td>\n",
       "      <td>44</td>\n",
       "      <td>0</td>\n",
       "      <td>1</td>\n",
       "      <td>138.130879</td>\n",
       "    </tr>\n",
       "  </tbody>\n",
       "</table>\n",
       "</div>"
      ],
      "text/plain": [
       "   Customer Lifetime Value  Income  Monthly Premium Auto  \\\n",
       "0              2763.519279   56274                    69   \n",
       "1              6979.535903       0                    94   \n",
       "2             12887.431650   48767                   108   \n",
       "3              7645.861827       0                   106   \n",
       "4              2813.692575   43836                    73   \n",
       "\n",
       "   Months Since Last Claim  Months Since Policy Inception  \\\n",
       "0                       32                              5   \n",
       "1                       13                             42   \n",
       "2                       18                             38   \n",
       "3                       18                             65   \n",
       "4                       12                             44   \n",
       "\n",
       "   Number of Open Complaints  Number of Policies  Total Claim Amount  \n",
       "0                          0                   1          384.811147  \n",
       "1                          0                   8         1131.464935  \n",
       "2                          0                   2          566.472247  \n",
       "3                          0                   7          529.881344  \n",
       "4                          0                   1          138.130879  "
      ]
     },
     "execution_count": 6,
     "metadata": {},
     "output_type": "execute_result"
    }
   ],
   "source": [
    "numericals.head()"
   ]
  },
  {
   "cell_type": "code",
   "execution_count": 47,
   "id": "45702f95",
   "metadata": {},
   "outputs": [
    {
     "data": {
      "text/plain": [
       "0        384.811147\n",
       "1       1131.464935\n",
       "2        566.472247\n",
       "3        529.881344\n",
       "4        138.130879\n",
       "           ...     \n",
       "9129     198.234764\n",
       "9130     379.200000\n",
       "9131     790.784983\n",
       "9132     691.200000\n",
       "9133     369.600000\n",
       "Name: Total Claim Amount, Length: 9134, dtype: float64"
      ]
     },
     "execution_count": 47,
     "metadata": {},
     "output_type": "execute_result"
    }
   ],
   "source": [
    "X = numericals.drop([\"Total Claim Amount\", \"Number of Open Complaints\"], axis=1) # I will consider the Number of Open Complaints as Categorical\n",
    "Y = numericals[\"Total Claim Amount\"]\n",
    "Y"
   ]
  },
  {
   "cell_type": "code",
   "execution_count": 58,
   "id": "35c161c8",
   "metadata": {},
   "outputs": [
    {
     "name": "stdout",
     "output_type": "stream",
     "text": [
      "In the column Income the mean is: 37657.38000875848\n",
      "In the column Months Since Last Claim the mean is: 15.097000218962119\n",
      "In the column Months Since Policy Inception the mean is: 48.064593825268226\n"
     ]
    }
   ],
   "source": [
    "for col in X.columns:\n",
    "    for i in X[col]:\n",
    "        if i <= 0:\n",
    "            X[column] = X[column].replace(X[column].mean())\n",
    "            print('In the column',col,'the mean is:',mean)\n",
    "            break"
   ]
  },
  {
   "cell_type": "code",
   "execution_count": null,
   "id": "fdb5c83f",
   "metadata": {},
   "outputs": [],
   "source": [
    "# in the code above I just was checking which columns I need to apply the mean at the values"
   ]
  },
  {
   "cell_type": "code",
   "execution_count": 76,
   "id": "db74810b",
   "metadata": {},
   "outputs": [
    {
     "data": {
      "text/plain": [
       "48.064593825268226"
      ]
     },
     "execution_count": 76,
     "metadata": {},
     "output_type": "execute_result"
    }
   ],
   "source": [
    "X['Income'].mean()"
   ]
  },
  {
   "cell_type": "code",
   "execution_count": 77,
   "id": "df970f2a",
   "metadata": {},
   "outputs": [
    {
     "data": {
      "text/plain": [
       "15.097000218962119"
      ]
     },
     "execution_count": 77,
     "metadata": {},
     "output_type": "execute_result"
    }
   ],
   "source": [
    "X['Months Since Last Claim'].mean()"
   ]
  },
  {
   "cell_type": "code",
   "execution_count": 78,
   "id": "ddc7f853",
   "metadata": {},
   "outputs": [
    {
     "data": {
      "text/plain": [
       "48.064593825268226"
      ]
     },
     "execution_count": 78,
     "metadata": {},
     "output_type": "execute_result"
    }
   ],
   "source": [
    "X['Months Since Policy Inception'].mean()"
   ]
  },
  {
   "cell_type": "code",
   "execution_count": 97,
   "id": "9ac6a00b",
   "metadata": {},
   "outputs": [],
   "source": [
    "X['Income_2'] = np.where(X['Income'] <= 0, X['Income'].mean(), X['Income'])"
   ]
  },
  {
   "cell_type": "code",
   "execution_count": 98,
   "id": "e7ca9b06",
   "metadata": {},
   "outputs": [],
   "source": [
    "X['Months Since Last Claim_2'] = np.where(X['Months Since Last Claim'] <= 0, X['Months Since Last Claim'].mean(), X['Months Since Last Claim'])"
   ]
  },
  {
   "cell_type": "code",
   "execution_count": 99,
   "id": "a22aec74",
   "metadata": {},
   "outputs": [],
   "source": [
    "X['Months Since Policy Inception_2'] = np.where(X['Months Since Policy Inception'] <=0, X['Months Since Policy Inception'].mean(), X['Months Since Policy Inception'])"
   ]
  },
  {
   "cell_type": "code",
   "execution_count": 100,
   "id": "a9fd3e7c",
   "metadata": {},
   "outputs": [],
   "source": [
    "from scipy import stats"
   ]
  },
  {
   "cell_type": "code",
   "execution_count": 111,
   "id": "b8050c57",
   "metadata": {},
   "outputs": [
    {
     "data": {
      "text/html": [
       "<div>\n",
       "<style scoped>\n",
       "    .dataframe tbody tr th:only-of-type {\n",
       "        vertical-align: middle;\n",
       "    }\n",
       "\n",
       "    .dataframe tbody tr th {\n",
       "        vertical-align: top;\n",
       "    }\n",
       "\n",
       "    .dataframe thead th {\n",
       "        text-align: right;\n",
       "    }\n",
       "</style>\n",
       "<table border=\"1\" class=\"dataframe\">\n",
       "  <thead>\n",
       "    <tr style=\"text-align: right;\">\n",
       "      <th></th>\n",
       "      <th>Customer Lifetime Value</th>\n",
       "      <th>Income</th>\n",
       "      <th>Monthly Premium Auto</th>\n",
       "      <th>Months Since Last Claim</th>\n",
       "      <th>Months Since Policy Inception</th>\n",
       "      <th>Number of Policies</th>\n",
       "      <th>Income_2</th>\n",
       "      <th>Months Since Last Claim_2</th>\n",
       "      <th>Months Since Policy Inception_2</th>\n",
       "      <th>Months Since Last Claim_BX</th>\n",
       "      <th>Income_BX</th>\n",
       "    </tr>\n",
       "  </thead>\n",
       "  <tbody>\n",
       "    <tr>\n",
       "      <th>0</th>\n",
       "      <td>2763.519279</td>\n",
       "      <td>56274</td>\n",
       "      <td>69</td>\n",
       "      <td>32</td>\n",
       "      <td>5</td>\n",
       "      <td>1</td>\n",
       "      <td>56274.000000</td>\n",
       "      <td>32.0</td>\n",
       "      <td>5.0</td>\n",
       "      <td>10.809132</td>\n",
       "      <td>42.114983</td>\n",
       "    </tr>\n",
       "    <tr>\n",
       "      <th>1</th>\n",
       "      <td>6979.535903</td>\n",
       "      <td>0</td>\n",
       "      <td>94</td>\n",
       "      <td>13</td>\n",
       "      <td>42</td>\n",
       "      <td>8</td>\n",
       "      <td>37657.380009</td>\n",
       "      <td>13.0</td>\n",
       "      <td>42.0</td>\n",
       "      <td>5.783269</td>\n",
       "      <td>38.346277</td>\n",
       "    </tr>\n",
       "    <tr>\n",
       "      <th>2</th>\n",
       "      <td>12887.431650</td>\n",
       "      <td>48767</td>\n",
       "      <td>108</td>\n",
       "      <td>18</td>\n",
       "      <td>38</td>\n",
       "      <td>2</td>\n",
       "      <td>48767.000000</td>\n",
       "      <td>18.0</td>\n",
       "      <td>38.0</td>\n",
       "      <td>7.311427</td>\n",
       "      <td>40.735368</td>\n",
       "    </tr>\n",
       "    <tr>\n",
       "      <th>3</th>\n",
       "      <td>7645.861827</td>\n",
       "      <td>0</td>\n",
       "      <td>106</td>\n",
       "      <td>18</td>\n",
       "      <td>65</td>\n",
       "      <td>7</td>\n",
       "      <td>37657.380009</td>\n",
       "      <td>18.0</td>\n",
       "      <td>65.0</td>\n",
       "      <td>7.311427</td>\n",
       "      <td>38.346277</td>\n",
       "    </tr>\n",
       "    <tr>\n",
       "      <th>4</th>\n",
       "      <td>2813.692575</td>\n",
       "      <td>43836</td>\n",
       "      <td>73</td>\n",
       "      <td>12</td>\n",
       "      <td>44</td>\n",
       "      <td>1</td>\n",
       "      <td>43836.000000</td>\n",
       "      <td>12.0</td>\n",
       "      <td>44.0</td>\n",
       "      <td>5.448624</td>\n",
       "      <td>39.734641</td>\n",
       "    </tr>\n",
       "  </tbody>\n",
       "</table>\n",
       "</div>"
      ],
      "text/plain": [
       "   Customer Lifetime Value  Income  Monthly Premium Auto  \\\n",
       "0              2763.519279   56274                    69   \n",
       "1              6979.535903       0                    94   \n",
       "2             12887.431650   48767                   108   \n",
       "3              7645.861827       0                   106   \n",
       "4              2813.692575   43836                    73   \n",
       "\n",
       "   Months Since Last Claim  Months Since Policy Inception  Number of Policies  \\\n",
       "0                       32                              5                   1   \n",
       "1                       13                             42                   8   \n",
       "2                       18                             38                   2   \n",
       "3                       18                             65                   7   \n",
       "4                       12                             44                   1   \n",
       "\n",
       "       Income_2  Months Since Last Claim_2  Months Since Policy Inception_2  \\\n",
       "0  56274.000000                       32.0                              5.0   \n",
       "1  37657.380009                       13.0                             42.0   \n",
       "2  48767.000000                       18.0                             38.0   \n",
       "3  37657.380009                       18.0                             65.0   \n",
       "4  43836.000000                       12.0                             44.0   \n",
       "\n",
       "   Months Since Last Claim_BX  Income_BX  \n",
       "0                   10.809132  42.114983  \n",
       "1                    5.783269  38.346277  \n",
       "2                    7.311427  40.735368  \n",
       "3                    7.311427  38.346277  \n",
       "4                    5.448624  39.734641  "
      ]
     },
     "execution_count": 111,
     "metadata": {},
     "output_type": "execute_result"
    }
   ],
   "source": [
    "X.head()"
   ]
  },
  {
   "cell_type": "code",
   "execution_count": 112,
   "id": "93bc93e8",
   "metadata": {},
   "outputs": [
    {
     "data": {
      "text/plain": [
       "(array([42.11498267, 38.34627666, 40.73536758, ..., 38.34627666,\n",
       "        33.75131941, 38.34627666]),\n",
       " 0.20848018430247728)"
      ]
     },
     "execution_count": 112,
     "metadata": {},
     "output_type": "execute_result"
    }
   ],
   "source": [
    "stats.boxcox(X['Income_2'])"
   ]
  },
  {
   "cell_type": "code",
   "execution_count": 113,
   "id": "dbd56113",
   "metadata": {},
   "outputs": [],
   "source": [
    "X['Income_BX'] = stats.boxcox(X['Income_2'])[0]"
   ]
  },
  {
   "cell_type": "code",
   "execution_count": 114,
   "id": "7b88ce3d",
   "metadata": {},
   "outputs": [
    {
     "data": {
      "text/plain": [
       "(array([10.8091316 ,  5.78326935,  7.31142719, ...,  4.36374168,\n",
       "        11.2484994 ,  1.52398721]),\n",
       " 0.5665215402251932)"
      ]
     },
     "execution_count": 114,
     "metadata": {},
     "output_type": "execute_result"
    }
   ],
   "source": [
    "stats.boxcox(X['Months Since Last Claim_2'])"
   ]
  },
  {
   "cell_type": "code",
   "execution_count": 115,
   "id": "b063e700",
   "metadata": {},
   "outputs": [],
   "source": [
    "X['Months Since Last Claim_BX'] = stats.boxcox(X['Months Since Last Claim_2'])[0]"
   ]
  },
  {
   "cell_type": "code",
   "execution_count": 116,
   "id": "3419296a",
   "metadata": {},
   "outputs": [
    {
     "data": {
      "text/plain": [
       "(array([ 3.01730086, 18.77038676, 17.38022491, ..., 17.02624808,\n",
       "         1.66766072, 33.34384569]),\n",
       " 0.7134555542476134)"
      ]
     },
     "execution_count": 116,
     "metadata": {},
     "output_type": "execute_result"
    }
   ],
   "source": [
    "stats.boxcox(X['Months Since Policy Inception_2'])"
   ]
  },
  {
   "cell_type": "code",
   "execution_count": 117,
   "id": "515a433e",
   "metadata": {},
   "outputs": [],
   "source": [
    "X['Months Since Policy Inception_BX'] = stats.boxcox(X['Months Since Last Claim_2'])[0]"
   ]
  },
  {
   "cell_type": "code",
   "execution_count": 118,
   "id": "1fa349f0",
   "metadata": {},
   "outputs": [
    {
     "data": {
      "image/png": "[encoded data removed]",
      "text/plain": [
       "<Figure size 640x480 with 1 Axes>"
      ]
     },
     "metadata": {},
     "output_type": "display_data"
    }
   ],
   "source": [
    "sns.histplot(X['Income_BX'])\n",
    "plt.show()"
   ]
  },
  {
   "cell_type": "code",
   "execution_count": 119,
   "id": "188285da",
   "metadata": {},
   "outputs": [
    {
     "data": {
      "image/png": "[encoded data removed]",
      "text/plain": [
       "<Figure size 640x480 with 1 Axes>"
      ]
     },
     "metadata": {},
     "output_type": "display_data"
    }
   ],
   "source": [
    "sns.histplot(X['Months Since Last Claim_BX'])\n",
    "plt.show()"
   ]
  },
  {
   "cell_type": "code",
   "execution_count": 120,
   "id": "5aae264b",
   "metadata": {},
   "outputs": [
    {
     "data": {
      "image/png": "[encoded data removed]",
      "text/plain": [
       "<Figure size 640x480 with 1 Axes>"
      ]
     },
     "metadata": {},
     "output_type": "display_data"
    }
   ],
   "source": [
    "sns.histplot(X['Months Since Policy Inception_BX'])\n",
    "plt.show()"
   ]
  },
  {
   "cell_type": "code",
   "execution_count": null,
   "id": "f62f93df",
   "metadata": {},
   "outputs": [],
   "source": [
    "# With the boxcox function we obtained the best normalized data that we could get. \n",
    "# (when compared with the log function in class)"
   ]
  }
 ],
 "metadata": {
  "kernelspec": {
   "display_name": "Python 3 (ipykernel)",
   "language": "python",
   "name": "python3"
  },
  "language_info": {
   "codemirror_mode": {
    "name": "ipython",
    "version": 3
   },
   "file_extension": ".py",
   "mimetype": "text/x-python",
   "name": "python",
   "nbconvert_exporter": "python",
   "pygments_lexer": "ipython3",
   "version": "3.9.13"
  }
 },
 "nbformat": 4,
 "nbformat_minor": 5
}
